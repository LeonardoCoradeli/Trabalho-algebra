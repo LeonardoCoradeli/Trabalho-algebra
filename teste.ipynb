{
 "cells": [
  {
   "cell_type": "code",
   "execution_count": 1,
   "outputs": [
    {
     "name": "stdout",
     "output_type": "stream",
     "text": [
      "Dimensão: 2\n",
      "Canônico: [[1, 0], [0, 1]]\n",
      "Dimensão: 4\n",
      "Canônico:\n",
      "[1, 0]\n",
      "[0, 0]\n",
      "\n",
      "[0, 0]\n",
      "[1, 0]\n",
      "\n",
      "[0, 1]\n",
      "[0, 0]\n",
      "\n",
      "[0, 0]\n",
      "[0, 1]\n",
      "\n",
      "Dimensão: 3\n",
      "Canônico: [[1, 0, 0], [0, 1, 0], [0, 0, 1]]\n",
      "Não\n"
     ]
    }
   ],
   "source": [
    "from Constantes import R,M,P\n",
    "import Base\n",
    "import Dimensao\n",
    "import Geradores\n",
    "\n",
    "#Define qual espaço vetorial quer se verificar a base\n",
    "R = R(2)\n",
    "M = M(2,2)\n",
    "P = P(2)\n",
    "\n",
    "print(\"Dimensão:\", R.dim)\n",
    "print(\"Canônico:\", R.canonico)\n",
    "\n",
    "print(\"Dimensão:\", M.dim)\n",
    "print(\"Canônico:\")\n",
    "for i in M.canonico:\n",
    "    for j in i:\n",
    "        print(f'[{\", \".join(map(str, j))}]')\n",
    "    print()\n",
    "\n",
    "print(\"Dimensão:\", P.dim)\n",
    "print(\"Canônico:\", P.canonico)\n",
    "\n",
    "vetor = [[1,2],[3,4]]\n",
    "\n",
    "if Geradores.gera_vetor(vetor,R):\n",
    "    print(\"Sim\")\n",
    "else:\n",
    "    print(\"Não\")"
   ],
   "metadata": {
    "collapsed": false,
    "ExecuteTime": {
     "end_time": "2023-11-29T14:49:20.393623900Z",
     "start_time": "2023-11-29T14:49:20.227624600Z"
    }
   },
   "id": "3bdaa74518f68bfd"
  },
  {
   "cell_type": "code",
   "execution_count": null,
   "outputs": [],
   "source": [],
   "metadata": {
    "collapsed": false
   },
   "id": "388e37561fe194a3"
  }
 ],
 "metadata": {
  "kernelspec": {
   "display_name": "Python 3",
   "language": "python",
   "name": "python3"
  },
  "language_info": {
   "codemirror_mode": {
    "name": "ipython",
    "version": 2
   },
   "file_extension": ".py",
   "mimetype": "text/x-python",
   "name": "python",
   "nbconvert_exporter": "python",
   "pygments_lexer": "ipython2",
   "version": "2.7.6"
  }
 },
 "nbformat": 4,
 "nbformat_minor": 5
}
